{
 "cells": [
  {
   "cell_type": "code",
   "execution_count": 1,
   "id": "512b9eb7-e975-456b-a747-a039c65ed59e",
   "metadata": {},
   "outputs": [],
   "source": [
    "# The first part of this notebook is inspired by R. Labbe's work, the second by A. Bewley's.\n",
    "\n",
    "import numpy as np\n",
    "\n",
    "import matplotlib as mpl\n",
    "import matplotlib.pyplot as plt"
   ]
  },
  {
   "cell_type": "markdown",
   "id": "72482fec-b50f-434f-b6c5-f91e52427bdd",
   "metadata": {},
   "source": [
    " "
   ]
  },
  {
   "cell_type": "markdown",
   "id": "6e239371-2c66-447a-8f8e-b73e5a33734a",
   "metadata": {},
   "source": [
    "You should submit before the deadline a **TP_KalmanFilter_firstname-surname.zip** containing:\n",
    "- The completed .ipynb notebook\n",
    "- The completed kalman_filter.py, multiple_object_tracker.py and robot_simulation.py files\n",
    "\n",
    "You do not need to attach the data nor the output of the last section on multiple object tracking as we must be able to regenerate the output by running your notebook."
   ]
  },
  {
   "cell_type": "markdown",
   "id": "fd21f8ce-0ba1-4619-85f5-b40c8e6da821",
   "metadata": {},
   "source": [
    " "
   ]
  },
  {
   "cell_type": "markdown",
   "id": "ce0cda47-022a-4e9c-b856-d83af185e4ff",
   "metadata": {},
   "source": [
    "# Introduction on Gaussian distributions"
   ]
  },
  {
   "cell_type": "markdown",
   "id": "6b0cf53e-1b13-467e-aa97-d41e06e3b916",
   "metadata": {},
   "source": [
    "The Kalman filter is essentially a Bayesian filter that uses Gaussians. Let's see in 1D how we can use Gaussian distributions to encode priors about the location of a robot, and update them given measurements."
   ]
  },
  {
   "cell_type": "markdown",
   "id": "4c46ba8e-a8dd-4633-949b-ad6950f882d8",
   "metadata": {},
   "source": [
    "## Beliefs as Gaussians"
   ]
  },
  {
   "cell_type": "code",
   "execution_count": 2,
   "id": "3048d041-f88f-4baf-abbb-e471165e4ec1",
   "metadata": {},
   "outputs": [],
   "source": [
    "# Code the 1D Gaussian probability density function\n",
    "def Gaussian_pdf(x, mean=0., variance=1.):\n",
    "    \"\"\"\n",
    "    x: scalar or numpy.array\n",
    "    Returns N(x|mean,variance), the scalar or numpy array containing the Gaussian pdf evaluated at x.\n",
    "    \"\"\"\n",
    "    y = np.exp(-(x-mean)**2/(2*variance))\n",
    "    return y"
   ]
  },
  {
   "cell_type": "markdown",
   "id": "1413b0ec-d805-4689-96f4-02664cb5b64c",
   "metadata": {},
   "source": [
    "We can express our belief in the robot's position with a Gaussian. Say we believe that the robot is at 10 meters, and the variance in that belief is 1m$^2$, or $\\mathcal{N}(10,\\, 1)$. A plot of the pdf follows:"
   ]
  },
  {
   "cell_type": "code",
   "execution_count": 3,
   "id": "75ba05c6-85da-4147-9b17-3984ae2efdd8",
   "metadata": {},
   "outputs": [
    {
     "data": {
      "image/png": "[encoded data removed]",
      "text/plain": [
       "<Figure size 720x432 with 1 Axes>"
      ]
     },
     "metadata": {
      "needs_background": "light"
     },
     "output_type": "display_data"
    }
   ],
   "source": [
    "xs = np.linspace(4, 16, 100)\n",
    "ys = Gaussian_pdf(xs, mean=10.)\n",
    "\n",
    "plt.figure(figsize=(10, 6))\n",
    "plt.plot(xs, ys, label='$\\mathcal{N}(10,1)$')\n",
    "plt.ylim(0,.5)\n",
    "plt.grid(True)"
   ]
  },
  {
   "cell_type": "markdown",
   "id": "b1c23234-fc97-4c09-abd9-ea1cd752eb3a",
   "metadata": {},
   "source": [
    "This plot depicts our uncertainty about the robot's position. It represents a fairly inexact belief. While we believe that it is most likely that the robot is at 10 m, any position from 9 m to 11 m or so is quite likely as well."
   ]
  },
  {
   "cell_type": "markdown",
   "id": "9b93bb13-48be-4a64-a042-54117c8cea6b",
   "metadata": {},
   "source": [
    "## Predictions with Gaussians"
   ]
  },
  {
   "cell_type": "markdown",
   "id": "ca600b72-abad-4f21-89a1-38440be62d7e",
   "metadata": {},
   "source": [
    "Suppose starting from an uncertain position $x = \\mathcal{N}(10,\\, 1)$, the robot moves by an amount $\\epsilon = \\mathcal{N}(0,\\, 0.5^2)$. How do we compute the prior for the new location of the robot, given that both their initial location and move are uncertain?"
   ]
  },
  {
   "cell_type": "markdown",
   "id": "26d1571e-3af5-4566-a980-dd8bc32fbb2a",
   "metadata": {},
   "source": [
    "We make use of the fact that the sum of two independent Gaussians is again Gaussian, whose mean equals the sum of their means and whose variance equals the sum of their variance. In our case, this yields a prior $\\bar{x}=\\mathcal{N}(\\bar\\mu,\\, \\bar\\sigma^2)$ with:"
   ]
  },
  {
   "cell_type": "markdown",
   "id": "431e5d16-effa-4ef4-af85-f5f48509e00c",
   "metadata": {},
   "source": [
    "$$\\begin{aligned}\\bar\\mu &= \\mu_x + \\mu_\\epsilon = 10 + 0 &&= 10 \\\\\n",
    "\\bar\\sigma^2 &= \\sigma_x^2 + \\sigma_{\\epsilon}^2 = 1^2 + 0.5^2 &&= 1.25\\end{aligned}$$"
   ]
  },
  {
   "cell_type": "markdown",
   "id": "bde712d3-f518-47d7-a648-7b81ab24dce8",
   "metadata": {},
   "source": [
    "It makes sense that the predicted position is the previous position plus the movement. What about the variance? It is harder to form an intuition about this. However, we don't really know where the robot is moving, so the confidence should get smaller (variance gets larger). $\\sigma_{\\epsilon}^2$ is the amount of uncertainty added to the system due to the imperfect prediction about the movement, and so we would add that to the existing uncertainty."
   ]
  },
  {
   "cell_type": "markdown",
   "id": "27df411e-4224-4d93-afbf-5eb89af56c31",
   "metadata": {},
   "source": [
    "Let's implement this:"
   ]
  },
  {
   "cell_type": "code",
   "execution_count": 4,
   "id": "0e5dd3e7-e2f8-4844-9f36-3145520a079a",
   "metadata": {},
   "outputs": [],
   "source": [
    "from collections import namedtuple\n",
    "gaussian = namedtuple('Gaussian', ['mean', 'var'])\n",
    "gaussian.__repr__ = lambda s: f'𝒩(μ={s[0]:.3f}, 𝜎²={s[1]:.3f})'"
   ]
  },
  {
   "cell_type": "code",
   "execution_count": 5,
   "id": "4c43b22a-d314-403b-bcfd-ae0b76fbdd76",
   "metadata": {},
   "outputs": [],
   "source": [
    "# Implement the prediction update from above\n",
    "def predict(pos, movement):\n",
    "    \"\"\"\n",
    "    pos, movement: gaussian namedtuples\n",
    "    Returns: a gaussian namedtuple\n",
    "    \"\"\"\n",
    "    mean3 = pos.mean + movement.mean\n",
    "    var3 = pos.var + movement.var\n",
    "    prior = gaussian(mean3,var3)\n",
    "    return prior"
   ]
  },
  {
   "cell_type": "code",
   "execution_count": 6,
   "id": "dc5218f0-64a8-45f1-9577-d6774af42819",
   "metadata": {},
   "outputs": [
    {
     "data": {
      "text/plain": [
       "𝒩(μ=10.000, 𝜎²=1.250)"
      ]
     },
     "execution_count": 6,
     "metadata": {},
     "output_type": "execute_result"
    }
   ],
   "source": [
    "pos = gaussian(10., 1.**2)\n",
    "move = gaussian(0, 0.5**2)\n",
    "predict(pos, move)\n",
    "#print(pos.var)"
   ]
  },
  {
   "cell_type": "markdown",
   "id": "a7e45a80-3336-4579-ae17-6d3702fcc77b",
   "metadata": {},
   "source": [
    "The prior states that the robot is at 10 m with a variance of 1.25 m$^2$, which is what we computed by hand."
   ]
  },
  {
   "cell_type": "markdown",
   "id": "9637072f-3725-4bfa-aa23-fe3a1a655656",
   "metadata": {},
   "source": [
    "## Updates with Gaussians"
   ]
  },
  {
   "cell_type": "markdown",
   "id": "c7ad9c0e-02cc-415b-baf3-1d4a3ffe8e26",
   "metadata": {},
   "source": [
    "The likelihood is the probability of the measurement given the current state. We can represent measurements as Gaussians. For example, maybe our sensor states that the robot is at 12 m, with a standard deviation of 0.5 meters. Our measurement, expressed as a likelihood, is $z = \\mathcal N (12, 0.5^2)$."
   ]
  },
  {
   "cell_type": "markdown",
   "id": "1c8efb8d-1657-4b3f-a21f-bc8f5b4ee83e",
   "metadata": {},
   "source": [
    "Both the likelihood and prior are modeled with Gaussians. The update, a.k.a. the posterior, is obtained up to normalization by multiplying these Gaussians. After normalization, the product of these Gaussians is in turn a Gaussian $\\mathcal N(\\mu, \\sigma^2)$ as per slides 44-45."
   ]
  },
  {
   "cell_type": "markdown",
   "id": "6a53bd82-416a-43d3-b8ae-018bf764581b",
   "metadata": {},
   "source": [
    "$$\\begin{aligned}\n",
    "\\mathcal N(\\mu, \\sigma^2) &\\propto prior \\cdot likelihood \\\\\n",
    "&= \\mathcal{N}(\\bar\\mu, \\bar\\sigma^2)\\cdot \\mathcal{N}(\\mu_z, \\sigma_z^2) \\\\\n",
    "&\\propto \\mathcal N(\\frac{\\bar\\sigma^2 \\mu_z + \\sigma_z^2 \\bar\\mu}{\\bar\\sigma^2 + \\sigma_z^2},\\frac{\\bar\\sigma^2\\sigma_z^2}{\\bar\\sigma^2 + \\sigma_z^2})\n",
    "\\end{aligned}$$"
   ]
  },
  {
   "cell_type": "markdown",
   "id": "163b059a-6fdf-4ea3-8d7d-6fe311f1a4ef",
   "metadata": {},
   "source": [
    "Let's implement this:"
   ]
  },
  {
   "cell_type": "code",
   "execution_count": 7,
   "id": "cc8f16f7-8d30-438d-a837-cc73e50c7935",
   "metadata": {},
   "outputs": [],
   "source": [
    "# Implement the update obtained by multiplying prior and likelihood as in the formula above\n",
    "def gaussian_multiply(g1, g2):\n",
    "    \"\"\"\n",
    "    g1, g2: Gaussian namedtuples\n",
    "    Returns: a Gaussian namedtuple that is (up to renormalization) the product of g1 and g2\n",
    "    \"\"\"\n",
    "    mean1 = g1.mean\n",
    "    mean2 = g2.mean\n",
    "    var1 = g1.var\n",
    "    var2 = g2.var\n",
    "    mean3 = (var1*mean2+var2*mean1)/(var1+var2)\n",
    "    var3 = (var1*var2)/(var1+var2)\n",
    "    product = gaussian(mean3,var3)\n",
    "    return product\n",
    "\n",
    "def update(prior, likelihood):\n",
    "    \"\"\"\n",
    "    prior, likelihood: Gaussian namedtuples\n",
    "    Returns: a Gaussian namedtuple\n",
    "    \"\"\"\n",
    "    posterior = gaussian_multiply(likelihood, prior)\n",
    "    return posterior"
   ]
  },
  {
   "cell_type": "code",
   "execution_count": 8,
   "id": "a5bc2143-9f9d-4a38-b4c3-19f24ea34df1",
   "metadata": {},
   "outputs": [
    {
     "data": {
      "text/plain": [
       "𝒩(μ=11.667, 𝜎²=0.208)"
      ]
     },
     "execution_count": 8,
     "metadata": {},
     "output_type": "execute_result"
    }
   ],
   "source": [
    "# Test the update function\n",
    "predicted_pos = gaussian(10., 1.25)\n",
    "measured_pos = gaussian(12., 0.5**2)\n",
    "estimated_pos = update(predicted_pos, measured_pos)\n",
    "estimated_pos"
   ]
  },
  {
   "cell_type": "markdown",
   "id": "73fe2398-1b74-4569-887e-b29025dfddce",
   "metadata": {},
   "source": [
    "### Understanding Gaussian multiplication\n",
    "\n",
    "Let's plot the pdf of $\\mathcal{N}(10,\\, 1) \\times \\mathcal{N}(10,\\, 1)$. Can you determine its shape without looking at the result? What should the new mean be? Will the curve be wider, narrower, or the same as $\\mathcal{N}(10,\\, 1)$?"
   ]
  },
  {
   "cell_type": "markdown",
   "id": "3ae234af",
   "metadata": {},
   "source": [
    "- La moyenne est la même, donc il n'y aura qu'une seule bosse, par contre, le produit au carré réduira la largeur de la bosse (car valeur inférieur à 1). La moyenne reste 10."
   ]
  },
  {
   "cell_type": "code",
   "execution_count": 9,
   "id": "dadfdba4-9319-4542-a287-95520ade8bf7",
   "metadata": {},
   "outputs": [
    {
     "name": "stdout",
     "output_type": "stream",
     "text": [
      "𝒩(μ=10.000, 𝜎²=0.500)\n"
     ]
    },
    {
     "data": {
      "image/png": "[encoded data removed]",
      "text/plain": [
       "<Figure size 720x432 with 1 Axes>"
      ]
     },
     "metadata": {
      "needs_background": "light"
     },
     "output_type": "display_data"
    }
   ],
   "source": [
    "z = gaussian(10., 1.)  # Gaussian N(10, 1)\n",
    "product = gaussian_multiply(z, z)\n",
    "\n",
    "plt.figure(figsize=(10, 6))\n",
    "\n",
    "xs = np.linspace(5, 15, 100)\n",
    "ys = Gaussian_pdf(xs, z.mean, z.var)\n",
    "plt.plot(xs, ys, label='$\\mathcal{N}(10,1)$')\n",
    "\n",
    "ys = Gaussian_pdf(xs, product.mean, product.var)\n",
    "plt.plot(xs, ys, label='$\\mathcal{N}(10,1) \\\\times \\mathcal{N}(10,1)$', ls='--')\n",
    "plt.legend()\n",
    "plt.grid(True)\n",
    "\n",
    "print(product)"
   ]
  },
  {
   "cell_type": "markdown",
   "id": "b30db142-51e3-493e-9eaf-1a649991a586",
   "metadata": {},
   "source": [
    "The result of the multiplication is taller and narrow than the original Gaussian but the mean is unchanged. Does this match your intuition?"
   ]
  },
  {
   "cell_type": "markdown",
   "id": "26474279",
   "metadata": {},
   "source": [
    "- Yes"
   ]
  },
  {
   "cell_type": "markdown",
   "id": "29ba1622-7789-4f39-814c-429c8e7d6571",
   "metadata": {},
   "source": [
    "Now let's plot the pdf of $\\mathcal{N}(10.4,\\, 1) \\times \\mathcal{N}(9.6,\\, 1)$. What do you think the result will be?"
   ]
  },
  {
   "cell_type": "markdown",
   "id": "a8c0cda5",
   "metadata": {},
   "source": [
    "- Les moyennes sont différentes donc il y aura une bosse au milieu des deux (car produit)."
   ]
  },
  {
   "cell_type": "code",
   "execution_count": 10,
   "id": "70f59d8a-a8db-4b6b-bf34-104e197d2177",
   "metadata": {},
   "outputs": [
    {
     "data": {
      "image/png": "[encoded data removed]",
      "text/plain": [
       "<Figure size 720x432 with 1 Axes>"
      ]
     },
     "metadata": {
      "needs_background": "light"
     },
     "output_type": "display_data"
    }
   ],
   "source": [
    "def plot_products(g1, g2): \n",
    "    plt.figure(figsize=(10, 6))\n",
    "    product = gaussian_multiply(g1, g2)\n",
    "\n",
    "    xs = np.linspace(5, 15, 100)\n",
    "    ys = Gaussian_pdf(xs, g1.mean, g1.var)\n",
    "    plt.plot(xs, ys, label='$\\mathcal{N}$' + f'$({g1.mean},{g1.var})$')\n",
    "\n",
    "    ys = Gaussian_pdf(xs, g2.mean, g2.var)\n",
    "    plt.plot(xs, ys, label='$\\mathcal{N}$' + f'$({g2.mean},{g2.var})$')\n",
    "\n",
    "    ys = Gaussian_pdf(xs, product.mean, product.var)\n",
    "    plt.plot(xs, ys, label='product', ls='--')\n",
    "    plt.legend();\n",
    "    plt.grid(True)\n",
    "    plt.show()\n",
    "    \n",
    "z1 = gaussian(10.4, 1)\n",
    "z2 = gaussian(9.6, 1)\n",
    " \n",
    "plot_products(z1, z2)"
   ]
  },
  {
   "cell_type": "markdown",
   "id": "4af0a8be-731e-4546-a746-dcedebdc8446",
   "metadata": {},
   "source": [
    "Finally, consider the case where one of the Gaussian distributions is much narrower than the other. Which of the means is closest to the mean of the resulting product distribution? Compare the width of the product Gaussian to the widths of the respective Gaussians forming the product."
   ]
  },
  {
   "cell_type": "markdown",
   "id": "478c4b08",
   "metadata": {},
   "source": [
    "- Dans le cas d'une gaussienne plus fine que l'autre, la moyenne résultante sera plus proche de la moyenne de la gaussienne plus large, la gaussienne résultante est plus fine que les gaussiennes multipliées."
   ]
  },
  {
   "cell_type": "markdown",
   "id": "d4d0b64c-40bd-4749-98dc-5410ed586b00",
   "metadata": {},
   "source": [
    "# Kalman filter tracking of robot trajectory"
   ]
  },
  {
   "cell_type": "markdown",
   "id": "8cebeb95-6320-44c1-b4ab-0ea75ad0e84f",
   "metadata": {},
   "source": [
    "We will apply Kalman filtering to track the location of a robot in 1D. The robot moves during each time step and its new location is sensed with some measurement error. We will filter the noisy measurements to track the location over time."
   ]
  },
  {
   "cell_type": "markdown",
   "id": "30090619-6a67-48eb-a69c-2bb1be277453",
   "metadata": {},
   "source": [
    "You will assume the robot moves with constant velocity and implement a constant velocity state transition model. The state is thus 2-dimensional and consists of the location $x$ of the robot and its velocity $v$ (similar to slide 17 but in 1D). We assume measurements are acquired at time intervals of $\\Delta t=1$s."
   ]
  },
  {
   "cell_type": "markdown",
   "id": "56fdfe3c-ae91-4f8d-b4c6-5bd5d4b61513",
   "metadata": {},
   "source": [
    "You first have to complete the KalmanFilter implementation in kalman_filter.py. It implements a general purpose Kalman filter as per the predict and update equations presented in the slides 47-50."
   ]
  },
  {
   "cell_type": "markdown",
   "id": "bde1b4db-fae5-4bf4-9613-a272af57ef04",
   "metadata": {},
   "source": [
    "You then have to complete the code blocks below."
   ]
  },
  {
   "cell_type": "code",
   "execution_count": 11,
   "id": "0413ca2f-2205-437b-9284-88abc789d7bf",
   "metadata": {},
   "outputs": [],
   "source": [
    "from robot_simulation import RobotSimulation\n",
    "from kalman_filter import KalmanFilter"
   ]
  },
  {
   "cell_type": "code",
   "execution_count": 12,
   "id": "f50ebe61-1016-44d0-9ba1-e2f21f72695c",
   "metadata": {},
   "outputs": [],
   "source": [
    "# This code generates the (walk and) measurements at each of N timesteps spaced by a time interval of delta_t = 1.0\n",
    "\n",
    "process_std = .5\n",
    "measurement_std = 2.\n",
    "N = 25\n",
    "\n",
    "robot = RobotSimulation(0, 1.0, measurement_std, process_std)\n",
    "zs = [np.array([robot.move_and_locate()]) for _ in range(N)] # Array of measurements at each time step"
   ]
  },
  {
   "cell_type": "code",
   "execution_count": 13,
   "id": "365aa86b-1c37-45c3-b43e-71cad2b3f636",
   "metadata": {},
   "outputs": [
    {
     "name": "stdout",
     "output_type": "stream",
     "text": [
      "[0. 0.]\n"
     ]
    }
   ],
   "source": [
    "# Initialize the Kalman filter\n",
    "dim_x = 2\n",
    "dim_z = 1\n",
    "kf = KalmanFilter(dim_x,dim_z)\n",
    "\n",
    "kf.x = np.zeros((dim_x)) # Initialize the location and velocity at 0.\n",
    "print(np.zeros((dim_x)).T)\n",
    "kf.P = np.array([[20**2,0],[0,2**2]]) # Initialize the standard deviation of the location at 20. and the std of the velocity at 2.\n",
    "\n",
    "kf.F = np.eye(dim_x) # Set the transition matrix to that corresponding to a constant velocity model\n",
    "kf.Q = np.array([[process_std**2,0],[0,0.1**2]]) # Set the process noise std to process_std for the location and 0.1 for the velocity\n",
    "kf.H = np.array([[1,0]]) # Set the measurement matrix to only observe the location\n",
    "kf.R = np.array([[measurement_std**2]]) # Set the measurement std to measurement_std\n",
    "\n",
    "# Run the Kalman filter at each timestep and store the predictions in the arrays below\n",
    "\n",
    "priors = np.zeros((N, 2)) # store the prediction of the location before each measurement along with its variance\n",
    "xs = np.zeros((N+1, 2)) # store the (initial location and the) prediction of the location after each measurement + its variance\n",
    "vs = np.zeros((N+1, 2)) # store the (initial velocity and the) velocity after each measurement along with the predicted variance \n",
    "\n",
    "xs[0,:] = np.array([kf.x[0],kf.P[0,0]])\n",
    "vs[0,:] = np.array([kf.x[1],kf.P[1,1]])\n",
    "\n",
    "for i, z in enumerate(zs):\n",
    "    # Run the predict/update steps of the Kalman filter and fill priors, xs and vs\n",
    "    kf.predict()\n",
    "    priors[i] = np.array([kf.x[0],kf.P[0,0]])\n",
    "    kf.update(z)\n",
    "    xs[i+1,:] = np.array([kf.x[0],kf.P[0,0]])\n",
    "    vs[i+1,:] = np.array([kf.x[1],kf.P[1,1]])"
   ]
  },
  {
   "cell_type": "code",
   "execution_count": 14,
   "id": "d61a1f88-ee9f-4f2e-92dc-3fdfb86ebee4",
   "metadata": {},
   "outputs": [],
   "source": [
    "def plot_filter(xs, var, c='C0', **kwargs):\n",
    "    ys = xs\n",
    "    xs = range(len(ys))\n",
    "    \n",
    "    lines = plt.plot(xs, ys, color=c, label='Filter', **kwargs)\n",
    "\n",
    "    std = np.sqrt(var)\n",
    "    std_top = ys+std\n",
    "    std_btm = ys-std\n",
    "\n",
    "    plt.plot(xs, ys+std, linestyle=':', color='k', lw=2)\n",
    "    plt.plot(xs, ys-std, linestyle=':', color='k', lw=2)\n",
    "    plt.fill_between(xs, std_btm, std_top,\n",
    "                     facecolor='yellow', alpha=0.2)"
   ]
  },
  {
   "cell_type": "code",
   "execution_count": 15,
   "id": "65a15127-2b37-4620-82e3-436fa2e5ddd5",
   "metadata": {},
   "outputs": [
    {
     "data": {
      "image/png": "[encoded data removed]",
      "text/plain": [
       "<Figure size 720x504 with 1 Axes>"
      ]
     },
     "metadata": {
      "needs_background": "light"
     },
     "output_type": "display_data"
    }
   ],
   "source": [
    "plt.figure(figsize=(10, 7))\n",
    "plt.scatter(range(1,len(zs)+1), zs, edgecolor='k', facecolor='none',\n",
    "                        lw=2, label='Measurements')\n",
    "plot_filter(xs[:,0], xs[:,1])\n",
    "plt.scatter(range(1,len(priors)+1), priors[:,0], marker='v', s=40, edgecolor='r',\n",
    "                facecolor='None', lw=2, label='Predictions')\n",
    "plt.legend(loc='center left', bbox_to_anchor=(1, 0.5))\n",
    "plt.grid(True)"
   ]
  },
  {
   "cell_type": "markdown",
   "id": "14d855f8-6a1a-4ece-bc4c-a0e16b7f0b12",
   "metadata": {},
   "source": [
    "What can you say at each timestep of the position of the filtered estimate compared to the position of the measurement and of the prior?"
   ]
  },
  {
   "cell_type": "markdown",
   "id": "5d5a55f1",
   "metadata": {},
   "source": [
    "- Each prediction has a small latency compared to the measurements."
   ]
  },
  {
   "cell_type": "markdown",
   "id": "8d3f0c86-c604-472b-bfe9-4dc499d25b25",
   "metadata": {},
   "source": [
    "Print the standard deviation of the location before (a priori) and after (a posteriori) each measurement. What can you say about it? Compare to the measurement standard deviation."
   ]
  },
  {
   "cell_type": "markdown",
   "id": "c947ab21-fd92-4d0a-b223-9430b9440966",
   "metadata": {},
   "source": [
    "The robot model implemented in RobotSimulation is very close to the constant velocity model that we assume in the Kalman filter. As a variant, generate the walk according to a different robot model than the one proposed in RobotSimulation (for instance any function of time). Does the Kalman filter still behave adequately? If not, what could you change to improve its behaviour?"
   ]
  },
  {
   "cell_type": "markdown",
   "id": "intensive-chapter",
   "metadata": {},
   "source": [
    "- The Kalman filter doesn't work as well as soon as we add a function implying non-constant velocity model, this can be adressed by adding the data of acceleration in the state vector, because acceleration is no longer null, this will help prediction predicting acceleration."
   ]
  },
  {
   "cell_type": "markdown",
   "id": "9efad7e1-97c2-4214-84dc-46f58f6bfc46",
   "metadata": {},
   "source": [
    "# Multiple Object Tracking"
   ]
  },
  {
   "cell_type": "markdown",
   "id": "e9202f7d-0dbb-44e4-9c83-1fb761a22de1",
   "metadata": {},
   "source": [
    "We now turn to multiple object tracking of pedestrians in video input, using the framework of tracking-by-detection as proposed in \"Simple Online and Realtime Tracking\" (Bewley et al., IEEE ICIP 2016). The gist of the framework is explained in slides 57-62."
   ]
  },
  {
   "cell_type": "markdown",
   "id": "9e1181f3-af1e-4e3a-adc8-382ba3814530",
   "metadata": {},
   "source": [
    "On each new frame, a pedestrian detector is run to find the frame detections. Each detection is associated to an existing track, and new tracks are created for unmatched detections (unmatched tracks are deleted after a few frames without a match). Each individual track is maintained and updated by a Kalman filter."
   ]
  },
  {
   "cell_type": "markdown",
   "id": "5004a263-a5a1-45ec-91cc-7d96533bcc56",
   "metadata": {},
   "source": [
    "In tracking-by-detection, object detectors are typically deep learning models. In this practical work, we will assume for convenience that detections are given to us rather than implementing or running a DL model. These are the columns 3 to 7 in the file 'data/KITTI-17_det.txt', where detection bounding boxes are in the format $[x1,y1,w,h]$, with $x1,y1$ the coordinates of the left-top corner, $w$ the width of the box and $h$ the height."
   ]
  },
  {
   "cell_type": "markdown",
   "id": "962297f7-d479-479b-aca5-d23782955c23",
   "metadata": {},
   "source": [
    "You can visualize what detections look like by opening the video 'data/KITTI-17_detections.webm' (you do not need this file in the remaining of the practical work)."
   ]
  },
  {
   "cell_type": "markdown",
   "id": "a90ac9b5-fcad-4c44-93ba-1bc27aa38d32",
   "metadata": {},
   "source": [
    "The code presented here implements the other steps of track prediction, data association and track update. In this version, the Kalman filter maintains the bounding box in the form of the bounding box center coordinates $x,y$, the bounding box area $s$ (width$\\times$height), and the aspect ration $r$ (width/height). In addition a constant velocity model is used on $x,y,s$ ($r$ is supposed constant). Therefore the internal state is 7-dimensional $[x,y,s,r,\\dot{x},\\dot{y},\\dot{s}]$. As only the box location is measured, the noisy measurement is 4-dimensional: $[x,y,s,r]$."
   ]
  },
  {
   "cell_type": "markdown",
   "id": "5ad26076-c036-49a5-87f0-61388564014f",
   "metadata": {},
   "source": [
    "We will reuse the Kalman filter that you have implemented in the previous part. Before running the cells below, you will have to fill in the missing lines in multiple_object_tracker.py:\n",
    "- In iou_batch, implement the intersection-over-union of detected and tracked bounding boxes\n",
    "- In convert_bbox_to_z and convert_x_to_bbox, fill in the missing lines\n",
    "- In KalmanBoxTracker, fill in the missing parts in the init, predict and update member functions\n",
    "\n",
    "You can test your iou_batch implementation using the cell below before running the multi-object tracker. After running the MOT, video frames with superimposed bounding boxes from tracked pedestrians are saved in 'output/images'. The last block of code uses opencv to convert these frames into a video saved in 'output/video.avi' for better visualization."
   ]
  },
  {
   "cell_type": "markdown",
   "id": "c54fe791-54c9-415f-af9a-f141a41181ae",
   "metadata": {},
   "source": [
    "Optionally, you can test your code with a second video with detection file 'data/KITTI-13_det.txt' and frames in 'data/KITTI-13_img'"
   ]
  },
  {
   "cell_type": "code",
   "execution_count": 16,
   "id": "e0c2675d-4526-42a0-b1bb-d22f3ed29a82",
   "metadata": {
    "tags": []
   },
   "outputs": [],
   "source": [
    "import numpy as np\n",
    "\n",
    "from multiple_object_tracker import MOT\n",
    "from multiple_object_tracker import iou_batch"
   ]
  },
  {
   "cell_type": "code",
   "execution_count": 17,
   "id": "a758e3fa-008b-4e0e-87ca-64706cf818fa",
   "metadata": {},
   "outputs": [
    {
     "data": {
      "text/plain": [
       "array([[0.5, 0.5, 0.5],\n",
       "       [0.5, 0.5, 0.5]])"
      ]
     },
     "execution_count": 17,
     "metadata": {},
     "output_type": "execute_result"
    }
   ],
   "source": [
    "# To test your implementation of iou_batch\n",
    "bb_test = np.array([[0,0,30,30],\n",
    "                    [15,15,45,45]])\n",
    "bb_gt = np.array([[0,0,30,30],\n",
    "                  [15,15,45,45],\n",
    "                  [30,30,60,60]])\n",
    "\n",
    "iou_batch(bb_test, bb_gt)\n",
    "\n",
    "# Output should be\n",
    "# [[1, 1/7, 0],\n",
    "#  [1/7, 1, 1/7]]"
   ]
  },
  {
   "cell_type": "markdown",
   "id": "6e604a6f-a66d-43ed-a7ed-b94b85642c13",
   "metadata": {},
   "source": [
    " "
   ]
  },
  {
   "cell_type": "markdown",
   "id": "6ae5804c-6898-4507-956b-cb7b27a33411",
   "metadata": {},
   "source": [
    "Multiple Object Tracker on the video frames from 'data/KITTI-17_img':"
   ]
  },
  {
   "cell_type": "code",
   "execution_count": 18,
   "id": "e9580b7f-06cb-4c5a-aa80-dda3c039879d",
   "metadata": {},
   "outputs": [],
   "source": [
    "import os\n",
    "from skimage import io\n",
    "\n",
    "from IPython.display import clear_output\n",
    "\n",
    "import matplotlib\n",
    "import matplotlib.pyplot as plt\n",
    "import matplotlib.patches as patches\n",
    "\n",
    "%matplotlib inline"
   ]
  },
  {
   "cell_type": "code",
   "execution_count": 19,
   "id": "94872aa6-409c-43dc-8fc2-9a6ec33e066e",
   "metadata": {},
   "outputs": [],
   "source": [
    "colours = np.random.rand(32, 3)\n",
    "dets_filename = 'data/KITTI-17_det.txt'\n",
    "img_path = os.path.join('data', 'KITTI-17_img')\n",
    "\n",
    "if not os.path.exists('output'):\n",
    "    os.makedirs('output')\n",
    "if not os.path.exists('output/images'):\n",
    "    os.makedirs('output/images')"
   ]
  },
  {
   "cell_type": "code",
   "execution_count": 20,
   "id": "629a8f83-1586-4d6e-834f-596d8f8e81a3",
   "metadata": {},
   "outputs": [
    {
     "ename": "OSError",
     "evalue": "data/KITTI-17_det.txt not found.",
     "output_type": "error",
     "traceback": [
      "\u001b[0;31m---------------------------------------------------------------------------\u001b[0m",
      "\u001b[0;31mOSError\u001b[0m                                   Traceback (most recent call last)",
      "\u001b[0;32m<ipython-input-20-d89134bbf6e2>\u001b[0m in \u001b[0;36m<module>\u001b[0;34m\u001b[0m\n\u001b[1;32m      3\u001b[0m \u001b[0;34m\u001b[0m\u001b[0m\n\u001b[1;32m      4\u001b[0m \u001b[0;31m# Load all detections for all frames\u001b[0m\u001b[0;34m\u001b[0m\u001b[0;34m\u001b[0m\u001b[0;34m\u001b[0m\u001b[0m\n\u001b[0;32m----> 5\u001b[0;31m \u001b[0mdets\u001b[0m \u001b[0;34m=\u001b[0m \u001b[0mnp\u001b[0m\u001b[0;34m.\u001b[0m\u001b[0mloadtxt\u001b[0m\u001b[0;34m(\u001b[0m\u001b[0mdets_filename\u001b[0m\u001b[0;34m,\u001b[0m \u001b[0mdelimiter\u001b[0m\u001b[0;34m=\u001b[0m\u001b[0;34m','\u001b[0m\u001b[0;34m)\u001b[0m\u001b[0;34m\u001b[0m\u001b[0;34m\u001b[0m\u001b[0m\n\u001b[0m\u001b[1;32m      6\u001b[0m \u001b[0;34m\u001b[0m\u001b[0m\n\u001b[1;32m      7\u001b[0m \u001b[0;31m# Run the MOT over all frames, save png of all frames with tracked pedestrians\u001b[0m\u001b[0;34m\u001b[0m\u001b[0;34m\u001b[0m\u001b[0;34m\u001b[0m\u001b[0m\n",
      "\u001b[0;32m/usr/lib/python3/dist-packages/numpy/lib/npyio.py\u001b[0m in \u001b[0;36mloadtxt\u001b[0;34m(fname, dtype, comments, delimiter, converters, skiprows, usecols, unpack, ndmin, encoding, max_rows)\u001b[0m\n\u001b[1;32m    959\u001b[0m             \u001b[0mfname\u001b[0m \u001b[0;34m=\u001b[0m \u001b[0mos_fspath\u001b[0m\u001b[0;34m(\u001b[0m\u001b[0mfname\u001b[0m\u001b[0;34m)\u001b[0m\u001b[0;34m\u001b[0m\u001b[0;34m\u001b[0m\u001b[0m\n\u001b[1;32m    960\u001b[0m         \u001b[0;32mif\u001b[0m \u001b[0m_is_string_like\u001b[0m\u001b[0;34m(\u001b[0m\u001b[0mfname\u001b[0m\u001b[0;34m)\u001b[0m\u001b[0;34m:\u001b[0m\u001b[0;34m\u001b[0m\u001b[0;34m\u001b[0m\u001b[0m\n\u001b[0;32m--> 961\u001b[0;31m             \u001b[0mfh\u001b[0m \u001b[0;34m=\u001b[0m \u001b[0mnp\u001b[0m\u001b[0;34m.\u001b[0m\u001b[0mlib\u001b[0m\u001b[0;34m.\u001b[0m\u001b[0m_datasource\u001b[0m\u001b[0;34m.\u001b[0m\u001b[0mopen\u001b[0m\u001b[0;34m(\u001b[0m\u001b[0mfname\u001b[0m\u001b[0;34m,\u001b[0m \u001b[0;34m'rt'\u001b[0m\u001b[0;34m,\u001b[0m \u001b[0mencoding\u001b[0m\u001b[0;34m=\u001b[0m\u001b[0mencoding\u001b[0m\u001b[0;34m)\u001b[0m\u001b[0;34m\u001b[0m\u001b[0;34m\u001b[0m\u001b[0m\n\u001b[0m\u001b[1;32m    962\u001b[0m             \u001b[0mfencoding\u001b[0m \u001b[0;34m=\u001b[0m \u001b[0mgetattr\u001b[0m\u001b[0;34m(\u001b[0m\u001b[0mfh\u001b[0m\u001b[0;34m,\u001b[0m \u001b[0;34m'encoding'\u001b[0m\u001b[0;34m,\u001b[0m \u001b[0;34m'latin1'\u001b[0m\u001b[0;34m)\u001b[0m\u001b[0;34m\u001b[0m\u001b[0;34m\u001b[0m\u001b[0m\n\u001b[1;32m    963\u001b[0m             \u001b[0mfh\u001b[0m \u001b[0;34m=\u001b[0m \u001b[0miter\u001b[0m\u001b[0;34m(\u001b[0m\u001b[0mfh\u001b[0m\u001b[0;34m)\u001b[0m\u001b[0;34m\u001b[0m\u001b[0;34m\u001b[0m\u001b[0m\n",
      "\u001b[0;32m/usr/lib/python3/dist-packages/numpy/lib/_datasource.py\u001b[0m in \u001b[0;36mopen\u001b[0;34m(path, mode, destpath, encoding, newline)\u001b[0m\n\u001b[1;32m    193\u001b[0m \u001b[0;34m\u001b[0m\u001b[0m\n\u001b[1;32m    194\u001b[0m     \u001b[0mds\u001b[0m \u001b[0;34m=\u001b[0m \u001b[0mDataSource\u001b[0m\u001b[0;34m(\u001b[0m\u001b[0mdestpath\u001b[0m\u001b[0;34m)\u001b[0m\u001b[0;34m\u001b[0m\u001b[0;34m\u001b[0m\u001b[0m\n\u001b[0;32m--> 195\u001b[0;31m     \u001b[0;32mreturn\u001b[0m \u001b[0mds\u001b[0m\u001b[0;34m.\u001b[0m\u001b[0mopen\u001b[0m\u001b[0;34m(\u001b[0m\u001b[0mpath\u001b[0m\u001b[0;34m,\u001b[0m \u001b[0mmode\u001b[0m\u001b[0;34m,\u001b[0m \u001b[0mencoding\u001b[0m\u001b[0;34m=\u001b[0m\u001b[0mencoding\u001b[0m\u001b[0;34m,\u001b[0m \u001b[0mnewline\u001b[0m\u001b[0;34m=\u001b[0m\u001b[0mnewline\u001b[0m\u001b[0;34m)\u001b[0m\u001b[0;34m\u001b[0m\u001b[0;34m\u001b[0m\u001b[0m\n\u001b[0m\u001b[1;32m    196\u001b[0m \u001b[0;34m\u001b[0m\u001b[0m\n\u001b[1;32m    197\u001b[0m \u001b[0;34m\u001b[0m\u001b[0m\n",
      "\u001b[0;32m/usr/lib/python3/dist-packages/numpy/lib/_datasource.py\u001b[0m in \u001b[0;36mopen\u001b[0;34m(self, path, mode, encoding, newline)\u001b[0m\n\u001b[1;32m    533\u001b[0m                                       encoding=encoding, newline=newline)\n\u001b[1;32m    534\u001b[0m         \u001b[0;32melse\u001b[0m\u001b[0;34m:\u001b[0m\u001b[0;34m\u001b[0m\u001b[0;34m\u001b[0m\u001b[0m\n\u001b[0;32m--> 535\u001b[0;31m             \u001b[0;32mraise\u001b[0m \u001b[0mIOError\u001b[0m\u001b[0;34m(\u001b[0m\u001b[0;34m\"%s not found.\"\u001b[0m \u001b[0;34m%\u001b[0m \u001b[0mpath\u001b[0m\u001b[0;34m)\u001b[0m\u001b[0;34m\u001b[0m\u001b[0;34m\u001b[0m\u001b[0m\n\u001b[0m\u001b[1;32m    536\u001b[0m \u001b[0;34m\u001b[0m\u001b[0m\n\u001b[1;32m    537\u001b[0m \u001b[0;34m\u001b[0m\u001b[0m\n",
      "\u001b[0;31mOSError\u001b[0m: data/KITTI-17_det.txt not found."
     ]
    }
   ],
   "source": [
    "# Initialize the multi object tracker\n",
    "mot_tracker = MOT(max_age=1, min_hits=3, iou_threshold=0.3)\n",
    "\n",
    "# Load all detections for all frames\n",
    "dets = np.loadtxt(dets_filename, delimiter=',')\n",
    "\n",
    "# Run the MOT over all frames, save png of all frames with tracked pedestrians\n",
    "for frame in range(int(dets[:,0].max())):\n",
    "    frame += 1 #detection and frame numbers begin at 1\n",
    "    frame_dets = dets[dets[:, 0]==frame, 2:7]\n",
    "    frame_dets[:, 2:4] += frame_dets[:, 0:2] #convert from [x1,y1,w,h] to [x1,y1,x2,y2]\n",
    "    \n",
    "    im = io.imread(os.path.join(img_path, '%06d.jpg'%(frame)))\n",
    "    \n",
    "    clear_output(wait=True)\n",
    "    fig = plt.figure(figsize=(10, 10*im.shape[0]/im.shape[1]))\n",
    "    ax1 = fig.add_subplot(111, aspect='equal')   \n",
    "    ax1.imshow(im)   \n",
    "    plt.grid(False)\n",
    "    plt.axis('off')\n",
    "    \n",
    "    trackers = mot_tracker.update(frame_dets)\n",
    "    \n",
    "    for d in trackers:\n",
    "        d = d.astype(np.int32)\n",
    "        ax1.add_patch(patches.Rectangle((d[0],d[1]),d[2]-d[0],d[3]-d[1],fill=False,lw=3,ec=colours[d[4]%32,:]))\n",
    "\n",
    "    plt.savefig(os.path.join('output', 'images', str(frame).zfill(6) + '.png'))\n",
    "    plt.show();"
   ]
  },
  {
   "cell_type": "markdown",
   "id": "6e338606-c679-47e7-a8fb-18175cf16002",
   "metadata": {},
   "source": [
    " "
   ]
  },
  {
   "cell_type": "markdown",
   "id": "db2fb248-a842-4997-a8c4-440007a782b5",
   "metadata": {},
   "source": [
    " "
   ]
  },
  {
   "cell_type": "markdown",
   "id": "e9da4620-8362-4265-94d4-b04ec8b50b5b",
   "metadata": {},
   "source": [
    " "
   ]
  },
  {
   "cell_type": "code",
   "execution_count": 21,
   "id": "da835075-9f37-44ac-934a-6f5edeb3ed94",
   "metadata": {},
   "outputs": [
    {
     "ename": "IndexError",
     "evalue": "list index out of range",
     "output_type": "error",
     "traceback": [
      "\u001b[0;31m---------------------------------------------------------------------------\u001b[0m",
      "\u001b[0;31mIndexError\u001b[0m                                Traceback (most recent call last)",
      "\u001b[0;32m<ipython-input-21-f3b74780c763>\u001b[0m in \u001b[0;36m<module>\u001b[0;34m\u001b[0m\n\u001b[1;32m      7\u001b[0m \u001b[0;34m\u001b[0m\u001b[0m\n\u001b[1;32m      8\u001b[0m \u001b[0mimages\u001b[0m \u001b[0;34m=\u001b[0m \u001b[0;34m[\u001b[0m\u001b[0mimg\u001b[0m \u001b[0;32mfor\u001b[0m \u001b[0mimg\u001b[0m \u001b[0;32min\u001b[0m \u001b[0msorted\u001b[0m\u001b[0;34m(\u001b[0m\u001b[0mos\u001b[0m\u001b[0;34m.\u001b[0m\u001b[0mlistdir\u001b[0m\u001b[0;34m(\u001b[0m\u001b[0mimage_folder\u001b[0m\u001b[0;34m)\u001b[0m\u001b[0;34m)\u001b[0m \u001b[0;32mif\u001b[0m \u001b[0mimg\u001b[0m\u001b[0;34m.\u001b[0m\u001b[0mendswith\u001b[0m\u001b[0;34m(\u001b[0m\u001b[0;34m\".png\"\u001b[0m\u001b[0;34m)\u001b[0m\u001b[0;34m]\u001b[0m\u001b[0;34m\u001b[0m\u001b[0;34m\u001b[0m\u001b[0m\n\u001b[0;32m----> 9\u001b[0;31m \u001b[0mframe\u001b[0m \u001b[0;34m=\u001b[0m \u001b[0mcv2\u001b[0m\u001b[0;34m.\u001b[0m\u001b[0mimread\u001b[0m\u001b[0;34m(\u001b[0m\u001b[0mos\u001b[0m\u001b[0;34m.\u001b[0m\u001b[0mpath\u001b[0m\u001b[0;34m.\u001b[0m\u001b[0mjoin\u001b[0m\u001b[0;34m(\u001b[0m\u001b[0mimage_folder\u001b[0m\u001b[0;34m,\u001b[0m \u001b[0mimages\u001b[0m\u001b[0;34m[\u001b[0m\u001b[0;36m0\u001b[0m\u001b[0;34m]\u001b[0m\u001b[0;34m)\u001b[0m\u001b[0;34m)\u001b[0m\u001b[0;34m\u001b[0m\u001b[0;34m\u001b[0m\u001b[0m\n\u001b[0m\u001b[1;32m     10\u001b[0m \u001b[0mheight\u001b[0m\u001b[0;34m,\u001b[0m \u001b[0mwidth\u001b[0m\u001b[0;34m,\u001b[0m \u001b[0mlayers\u001b[0m \u001b[0;34m=\u001b[0m \u001b[0mframe\u001b[0m\u001b[0;34m.\u001b[0m\u001b[0mshape\u001b[0m\u001b[0;34m\u001b[0m\u001b[0;34m\u001b[0m\u001b[0m\n\u001b[1;32m     11\u001b[0m \u001b[0;34m\u001b[0m\u001b[0m\n",
      "\u001b[0;31mIndexError\u001b[0m: list index out of range"
     ]
    }
   ],
   "source": [
    "# Reload the png's and save as video for better visualization\n",
    "import os\n",
    "import cv2\n",
    "\n",
    "image_folder = os.path.join('output', 'images')\n",
    "video_name = os.path.join('output','video.avi')\n",
    "\n",
    "images = [img for img in sorted(os.listdir(image_folder)) if img.endswith(\".png\")]\n",
    "frame = cv2.imread(os.path.join(image_folder, images[0]))\n",
    "height, width, layers = frame.shape\n",
    "\n",
    "video = cv2.VideoWriter(video_name, 0, 10, (width,height))\n",
    "\n",
    "for image in images:\n",
    "    video.write(cv2.imread(os.path.join(image_folder, image)))\n",
    "\n",
    "cv2.destroyAllWindows()\n",
    "video.release()"
   ]
  },
  {
   "cell_type": "markdown",
   "id": "abe9380a-54a7-4f5e-bef0-4c1e9425b38d",
   "metadata": {},
   "source": [
    " "
   ]
  },
  {
   "cell_type": "markdown",
   "id": "795f5d51-93ba-45b1-a7f6-449de15f7ba5",
   "metadata": {},
   "source": [
    " "
   ]
  },
  {
   "cell_type": "markdown",
   "id": "d4f7c500-48d8-4f5b-a071-ae9b0f126d01",
   "metadata": {},
   "source": [
    "Optionally, you can test your code with a second video with detection file in 'data/KITTI-13_det.txt' and frames in 'data/KITTI-13_img'"
   ]
  },
  {
   "cell_type": "code",
   "execution_count": null,
   "id": "2f126a0d-bb28-460a-974e-4bdb0f533621",
   "metadata": {},
   "outputs": [],
   "source": []
  }
 ],
 "metadata": {
  "kernelspec": {
   "display_name": "Python 3",
   "language": "python",
   "name": "python3"
  },
  "language_info": {
   "codemirror_mode": {
    "name": "ipython",
    "version": 3
   },
   "file_extension": ".py",
   "mimetype": "text/x-python",
   "name": "python",
   "nbconvert_exporter": "python",
   "pygments_lexer": "ipython3",
   "version": "3.9.2"
  }
 },
 "nbformat": 4,
 "nbformat_minor": 5
}
